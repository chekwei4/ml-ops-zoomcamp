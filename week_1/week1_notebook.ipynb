{
 "cells": [
  {
   "cell_type": "markdown",
   "id": "ecfe66cc",
   "metadata": {},
   "source": [
    "# Week 1 homework"
   ]
  },
  {
   "cell_type": "code",
   "execution_count": 1,
   "id": "83e295fc",
   "metadata": {
    "ExecuteTime": {
     "end_time": "2022-05-24T11:42:42.548581Z",
     "start_time": "2022-05-24T11:42:42.252772Z"
    }
   },
   "outputs": [
    {
     "name": "stdout",
     "output_type": "stream",
     "text": [
      "total 296\r\n",
      "-rw-r--r--  1 chekwei  staff   1.2K 22 May 22:16 README.md\r\n",
      "drwxr-xr-x  4 chekwei  staff   128B 22 May 22:32 \u001b[1m\u001b[36mdata\u001b[m\u001b[m/\r\n",
      "-rw-r--r--  1 chekwei  staff   1.3K 24 May 19:42 homework_week_1.md\r\n",
      "-rw-r--r--  1 chekwei  staff   138K 23 May 19:31 week1_notebook.ipynb\r\n"
     ]
    }
   ],
   "source": [
    "ls -lh"
   ]
  },
  {
   "cell_type": "code",
   "execution_count": 2,
   "id": "5a1b4469",
   "metadata": {
    "ExecuteTime": {
     "end_time": "2022-05-24T11:42:44.483431Z",
     "start_time": "2022-05-24T11:42:43.831559Z"
    }
   },
   "outputs": [],
   "source": [
    "import pandas as pd"
   ]
  },
  {
   "cell_type": "markdown",
   "id": "bf58e416",
   "metadata": {},
   "source": [
    "## Question 1"
   ]
  },
  {
   "cell_type": "code",
   "execution_count": 3,
   "id": "7dedf7f2",
   "metadata": {
    "ExecuteTime": {
     "end_time": "2022-05-24T11:42:45.630149Z",
     "start_time": "2022-05-24T11:42:45.450747Z"
    }
   },
   "outputs": [],
   "source": [
    "df = pd.read_parquet(\"data/fhv_tripdata_2021-01.parquet\")"
   ]
  },
  {
   "cell_type": "code",
   "execution_count": 4,
   "id": "54fa5e6f",
   "metadata": {
    "ExecuteTime": {
     "end_time": "2022-05-24T11:42:46.713425Z",
     "start_time": "2022-05-24T11:42:46.687803Z"
    }
   },
   "outputs": [
    {
     "data": {
      "text/html": [
       "<div>\n",
       "<style scoped>\n",
       "    .dataframe tbody tr th:only-of-type {\n",
       "        vertical-align: middle;\n",
       "    }\n",
       "\n",
       "    .dataframe tbody tr th {\n",
       "        vertical-align: top;\n",
       "    }\n",
       "\n",
       "    .dataframe thead th {\n",
       "        text-align: right;\n",
       "    }\n",
       "</style>\n",
       "<table border=\"1\" class=\"dataframe\">\n",
       "  <thead>\n",
       "    <tr style=\"text-align: right;\">\n",
       "      <th></th>\n",
       "      <th>dispatching_base_num</th>\n",
       "      <th>pickup_datetime</th>\n",
       "      <th>dropOff_datetime</th>\n",
       "      <th>PUlocationID</th>\n",
       "      <th>DOlocationID</th>\n",
       "      <th>SR_Flag</th>\n",
       "      <th>Affiliated_base_number</th>\n",
       "    </tr>\n",
       "  </thead>\n",
       "  <tbody>\n",
       "    <tr>\n",
       "      <th>0</th>\n",
       "      <td>B00009</td>\n",
       "      <td>2021-01-01 00:27:00</td>\n",
       "      <td>2021-01-01 00:44:00</td>\n",
       "      <td>NaN</td>\n",
       "      <td>NaN</td>\n",
       "      <td>None</td>\n",
       "      <td>B00009</td>\n",
       "    </tr>\n",
       "    <tr>\n",
       "      <th>1</th>\n",
       "      <td>B00009</td>\n",
       "      <td>2021-01-01 00:50:00</td>\n",
       "      <td>2021-01-01 01:07:00</td>\n",
       "      <td>NaN</td>\n",
       "      <td>NaN</td>\n",
       "      <td>None</td>\n",
       "      <td>B00009</td>\n",
       "    </tr>\n",
       "    <tr>\n",
       "      <th>2</th>\n",
       "      <td>B00013</td>\n",
       "      <td>2021-01-01 00:01:00</td>\n",
       "      <td>2021-01-01 01:51:00</td>\n",
       "      <td>NaN</td>\n",
       "      <td>NaN</td>\n",
       "      <td>None</td>\n",
       "      <td>B00013</td>\n",
       "    </tr>\n",
       "    <tr>\n",
       "      <th>3</th>\n",
       "      <td>B00037</td>\n",
       "      <td>2021-01-01 00:13:09</td>\n",
       "      <td>2021-01-01 00:21:26</td>\n",
       "      <td>NaN</td>\n",
       "      <td>72.0</td>\n",
       "      <td>None</td>\n",
       "      <td>B00037</td>\n",
       "    </tr>\n",
       "  </tbody>\n",
       "</table>\n",
       "</div>"
      ],
      "text/plain": [
       "  dispatching_base_num     pickup_datetime    dropOff_datetime  PUlocationID  \\\n",
       "0               B00009 2021-01-01 00:27:00 2021-01-01 00:44:00           NaN   \n",
       "1               B00009 2021-01-01 00:50:00 2021-01-01 01:07:00           NaN   \n",
       "2               B00013 2021-01-01 00:01:00 2021-01-01 01:51:00           NaN   \n",
       "3               B00037 2021-01-01 00:13:09 2021-01-01 00:21:26           NaN   \n",
       "\n",
       "   DOlocationID SR_Flag Affiliated_base_number  \n",
       "0           NaN    None                 B00009  \n",
       "1           NaN    None                 B00009  \n",
       "2           NaN    None                 B00013  \n",
       "3          72.0    None                 B00037  "
      ]
     },
     "execution_count": 4,
     "metadata": {},
     "output_type": "execute_result"
    }
   ],
   "source": [
    "df.head(4)"
   ]
  },
  {
   "cell_type": "code",
   "execution_count": 6,
   "id": "787c1b1c",
   "metadata": {
    "ExecuteTime": {
     "end_time": "2022-05-24T11:42:57.869017Z",
     "start_time": "2022-05-24T11:42:57.858125Z"
    }
   },
   "outputs": [
    {
     "data": {
      "text/plain": [
       "dispatching_base_num              object\n",
       "pickup_datetime           datetime64[ns]\n",
       "dropOff_datetime          datetime64[ns]\n",
       "PUlocationID                     float64\n",
       "DOlocationID                     float64\n",
       "SR_Flag                           object\n",
       "Affiliated_base_number            object\n",
       "dtype: object"
      ]
     },
     "execution_count": 6,
     "metadata": {},
     "output_type": "execute_result"
    }
   ],
   "source": [
    "df.dtypes"
   ]
  },
  {
   "cell_type": "code",
   "execution_count": 7,
   "id": "624bf63f",
   "metadata": {
    "ExecuteTime": {
     "end_time": "2022-05-24T11:42:59.650908Z",
     "start_time": "2022-05-24T11:42:59.394976Z"
    }
   },
   "outputs": [
    {
     "name": "stdout",
     "output_type": "stream",
     "text": [
      "<class 'pandas.core.frame.DataFrame'>\n",
      "RangeIndex: 1154112 entries, 0 to 1154111\n",
      "Data columns (total 7 columns):\n",
      " #   Column                  Non-Null Count    Dtype         \n",
      "---  ------                  --------------    -----         \n",
      " 0   dispatching_base_num    1154112 non-null  object        \n",
      " 1   pickup_datetime         1154112 non-null  datetime64[ns]\n",
      " 2   dropOff_datetime        1154112 non-null  datetime64[ns]\n",
      " 3   PUlocationID            195845 non-null   float64       \n",
      " 4   DOlocationID            991892 non-null   float64       \n",
      " 5   SR_Flag                 0 non-null        object        \n",
      " 6   Affiliated_base_number  1153227 non-null  object        \n",
      "dtypes: datetime64[ns](2), float64(2), object(3)\n",
      "memory usage: 61.6+ MB\n"
     ]
    }
   ],
   "source": [
    "df.info()"
   ]
  },
  {
   "cell_type": "markdown",
   "id": "e0976a09",
   "metadata": {},
   "source": [
    "## Question 2"
   ]
  },
  {
   "cell_type": "code",
   "execution_count": 8,
   "id": "fc093e71",
   "metadata": {
    "ExecuteTime": {
     "end_time": "2022-05-24T11:43:01.638423Z",
     "start_time": "2022-05-24T11:43:01.622078Z"
    }
   },
   "outputs": [
    {
     "data": {
      "text/html": [
       "<div>\n",
       "<style scoped>\n",
       "    .dataframe tbody tr th:only-of-type {\n",
       "        vertical-align: middle;\n",
       "    }\n",
       "\n",
       "    .dataframe tbody tr th {\n",
       "        vertical-align: top;\n",
       "    }\n",
       "\n",
       "    .dataframe thead th {\n",
       "        text-align: right;\n",
       "    }\n",
       "</style>\n",
       "<table border=\"1\" class=\"dataframe\">\n",
       "  <thead>\n",
       "    <tr style=\"text-align: right;\">\n",
       "      <th></th>\n",
       "      <th>dispatching_base_num</th>\n",
       "      <th>pickup_datetime</th>\n",
       "      <th>dropOff_datetime</th>\n",
       "      <th>PUlocationID</th>\n",
       "      <th>DOlocationID</th>\n",
       "      <th>SR_Flag</th>\n",
       "      <th>Affiliated_base_number</th>\n",
       "    </tr>\n",
       "  </thead>\n",
       "  <tbody>\n",
       "    <tr>\n",
       "      <th>0</th>\n",
       "      <td>B00009</td>\n",
       "      <td>2021-01-01 00:27:00</td>\n",
       "      <td>2021-01-01 00:44:00</td>\n",
       "      <td>NaN</td>\n",
       "      <td>NaN</td>\n",
       "      <td>None</td>\n",
       "      <td>B00009</td>\n",
       "    </tr>\n",
       "  </tbody>\n",
       "</table>\n",
       "</div>"
      ],
      "text/plain": [
       "  dispatching_base_num     pickup_datetime    dropOff_datetime  PUlocationID  \\\n",
       "0               B00009 2021-01-01 00:27:00 2021-01-01 00:44:00           NaN   \n",
       "\n",
       "   DOlocationID SR_Flag Affiliated_base_number  \n",
       "0           NaN    None                 B00009  "
      ]
     },
     "execution_count": 8,
     "metadata": {},
     "output_type": "execute_result"
    }
   ],
   "source": [
    "df[0:1]"
   ]
  },
  {
   "cell_type": "code",
   "execution_count": 9,
   "id": "d324389a",
   "metadata": {
    "ExecuteTime": {
     "end_time": "2022-05-24T11:43:02.256490Z",
     "start_time": "2022-05-24T11:43:02.241230Z"
    }
   },
   "outputs": [
    {
     "data": {
      "text/plain": [
       "0   0 days 00:17:00\n",
       "dtype: timedelta64[ns]"
      ]
     },
     "execution_count": 9,
     "metadata": {},
     "output_type": "execute_result"
    }
   ],
   "source": [
    "# df[df[\"dispatching_base_num\"]==\"B00009\"]\n",
    "df[0:1][\"dropOff_datetime\"] - df[0:1][\"pickup_datetime\"]"
   ]
  },
  {
   "cell_type": "code",
   "execution_count": 10,
   "id": "82e0f45e",
   "metadata": {
    "ExecuteTime": {
     "end_time": "2022-05-24T11:43:03.616721Z",
     "start_time": "2022-05-24T11:43:03.589312Z"
    }
   },
   "outputs": [],
   "source": [
    "df[\"travel_duration\"] = df[\"dropOff_datetime\"] - df[\"pickup_datetime\"]"
   ]
  },
  {
   "cell_type": "code",
   "execution_count": 11,
   "id": "e2762c29",
   "metadata": {
    "ExecuteTime": {
     "end_time": "2022-05-24T11:43:07.882599Z",
     "start_time": "2022-05-24T11:43:04.394188Z"
    }
   },
   "outputs": [],
   "source": [
    "df[\"travel_duration\"] = df[\"travel_duration\"].apply(lambda td: td.total_seconds()/60)"
   ]
  },
  {
   "cell_type": "code",
   "execution_count": 12,
   "id": "b0b94665",
   "metadata": {
    "ExecuteTime": {
     "end_time": "2022-05-24T11:43:07.887619Z",
     "start_time": "2022-05-24T11:43:07.883746Z"
    }
   },
   "outputs": [
    {
     "data": {
      "text/plain": [
       "19.167224093791006"
      ]
     },
     "execution_count": 12,
     "metadata": {},
     "output_type": "execute_result"
    }
   ],
   "source": [
    "df[\"travel_duration\"].mean()"
   ]
  },
  {
   "cell_type": "markdown",
   "id": "05e3e18c",
   "metadata": {},
   "source": [
    "## Data Preparation"
   ]
  },
  {
   "cell_type": "code",
   "execution_count": 13,
   "id": "9868f285",
   "metadata": {
    "ExecuteTime": {
     "end_time": "2022-05-24T11:43:09.868507Z",
     "start_time": "2022-05-24T11:43:08.884092Z"
    }
   },
   "outputs": [],
   "source": [
    "import seaborn as sns\n",
    "import matplotlib.pyplot as plt"
   ]
  },
  {
   "cell_type": "code",
   "execution_count": 14,
   "id": "23581b1b",
   "metadata": {
    "ExecuteTime": {
     "end_time": "2022-05-24T11:43:10.528951Z",
     "start_time": "2022-05-24T11:43:10.379207Z"
    }
   },
   "outputs": [],
   "source": [
    "df.drop(df[df.travel_duration > 60].index, inplace=True)\n",
    "df.drop(df[df.travel_duration < 1].index, inplace=True)"
   ]
  },
  {
   "cell_type": "code",
   "execution_count": 15,
   "id": "bf933fcb",
   "metadata": {
    "ExecuteTime": {
     "end_time": "2022-05-24T11:43:11.067019Z",
     "start_time": "2022-05-24T11:43:11.049991Z"
    }
   },
   "outputs": [
    {
     "data": {
      "text/plain": [
       "60.0"
      ]
     },
     "execution_count": 15,
     "metadata": {},
     "output_type": "execute_result"
    }
   ],
   "source": [
    "df[\"travel_duration\"].max()"
   ]
  },
  {
   "cell_type": "code",
   "execution_count": 16,
   "id": "0febf12a",
   "metadata": {
    "ExecuteTime": {
     "end_time": "2022-05-24T11:43:11.567584Z",
     "start_time": "2022-05-24T11:43:11.552467Z"
    }
   },
   "outputs": [
    {
     "data": {
      "text/plain": [
       "1.0"
      ]
     },
     "execution_count": 16,
     "metadata": {},
     "output_type": "execute_result"
    }
   ],
   "source": [
    "df[\"travel_duration\"].min()"
   ]
  },
  {
   "cell_type": "code",
   "execution_count": 17,
   "id": "f1c9334e",
   "metadata": {
    "ExecuteTime": {
     "end_time": "2022-05-24T11:43:13.908722Z",
     "start_time": "2022-05-24T11:43:12.831422Z"
    }
   },
   "outputs": [
    {
     "name": "stderr",
     "output_type": "stream",
     "text": [
      "/opt/homebrew/Caskroom/miniforge/base/envs/mlops_zoomcamp/lib/python3.8/site-packages/seaborn/distributions.py:2619: FutureWarning: `distplot` is a deprecated function and will be removed in a future version. Please adapt your code to use either `displot` (a figure-level function with similar flexibility) or `histplot` (an axes-level function for histograms).\n",
      "  warnings.warn(msg, FutureWarning)\n"
     ]
    },
    {
     "data": {
      "text/plain": [
       "<AxesSubplot:xlabel='travel_duration', ylabel='Density'>"
      ]
     },
     "execution_count": 17,
     "metadata": {},
     "output_type": "execute_result"
    },
    {
     "data": {
      "image/png": "[encoded data removed]",
      "text/plain": [
       "<Figure size 432x288 with 1 Axes>"
      ]
     },
     "metadata": {
      "needs_background": "light"
     },
     "output_type": "display_data"
    }
   ],
   "source": [
    "sns.distplot(df[\"travel_duration\"])"
   ]
  },
  {
   "cell_type": "code",
   "execution_count": 43,
   "id": "570d98d6",
   "metadata": {
    "ExecuteTime": {
     "end_time": "2022-05-23T10:14:13.590713Z",
     "start_time": "2022-05-23T10:14:13.370652Z"
    }
   },
   "outputs": [
    {
     "name": "stdout",
     "output_type": "stream",
     "text": [
      "<class 'pandas.core.frame.DataFrame'>\n",
      "Int64Index: 1109826 entries, 0 to 1154111\n",
      "Data columns (total 8 columns):\n",
      " #   Column                  Non-Null Count    Dtype         \n",
      "---  ------                  --------------    -----         \n",
      " 0   dispatching_base_num    1109826 non-null  object        \n",
      " 1   pickup_datetime         1109826 non-null  datetime64[ns]\n",
      " 2   dropOff_datetime        1109826 non-null  datetime64[ns]\n",
      " 3   PUlocationID            182818 non-null   float64       \n",
      " 4   DOlocationID            961919 non-null   float64       \n",
      " 5   SR_Flag                 0 non-null        object        \n",
      " 6   Affiliated_base_number  1109053 non-null  object        \n",
      " 7   travel_duration         1109826 non-null  float64       \n",
      "dtypes: datetime64[ns](2), float64(3), object(3)\n",
      "memory usage: 76.2+ MB\n"
     ]
    }
   ],
   "source": [
    "df.info()"
   ]
  },
  {
   "cell_type": "markdown",
   "id": "d729adf0",
   "metadata": {},
   "source": [
    "## Question 3"
   ]
  },
  {
   "cell_type": "code",
   "execution_count": 18,
   "id": "4a3f7650",
   "metadata": {
    "ExecuteTime": {
     "end_time": "2022-05-24T11:43:17.671865Z",
     "start_time": "2022-05-24T11:43:17.432042Z"
    }
   },
   "outputs": [],
   "source": [
    "percent_missing = df.isnull().sum() * 100 / len(df)\n",
    "missing_value_df = pd.DataFrame({'column_name': df.columns,\n",
    "                                 'percent_missing': percent_missing})\n",
    "missing_value_df.sort_values('percent_missing', ascending= False, inplace=True)"
   ]
  },
  {
   "cell_type": "code",
   "execution_count": 19,
   "id": "6d24e168",
   "metadata": {
    "ExecuteTime": {
     "end_time": "2022-05-24T11:43:18.124433Z",
     "start_time": "2022-05-24T11:43:18.115474Z"
    }
   },
   "outputs": [
    {
     "data": {
      "text/html": [
       "<div>\n",
       "<style scoped>\n",
       "    .dataframe tbody tr th:only-of-type {\n",
       "        vertical-align: middle;\n",
       "    }\n",
       "\n",
       "    .dataframe tbody tr th {\n",
       "        vertical-align: top;\n",
       "    }\n",
       "\n",
       "    .dataframe thead th {\n",
       "        text-align: right;\n",
       "    }\n",
       "</style>\n",
       "<table border=\"1\" class=\"dataframe\">\n",
       "  <thead>\n",
       "    <tr style=\"text-align: right;\">\n",
       "      <th></th>\n",
       "      <th>column_name</th>\n",
       "      <th>percent_missing</th>\n",
       "    </tr>\n",
       "  </thead>\n",
       "  <tbody>\n",
       "    <tr>\n",
       "      <th>SR_Flag</th>\n",
       "      <td>SR_Flag</td>\n",
       "      <td>100.000000</td>\n",
       "    </tr>\n",
       "    <tr>\n",
       "      <th>PUlocationID</th>\n",
       "      <td>PUlocationID</td>\n",
       "      <td>83.527328</td>\n",
       "    </tr>\n",
       "    <tr>\n",
       "      <th>DOlocationID</th>\n",
       "      <td>DOlocationID</td>\n",
       "      <td>13.327044</td>\n",
       "    </tr>\n",
       "    <tr>\n",
       "      <th>Affiliated_base_number</th>\n",
       "      <td>Affiliated_base_number</td>\n",
       "      <td>0.069651</td>\n",
       "    </tr>\n",
       "    <tr>\n",
       "      <th>dispatching_base_num</th>\n",
       "      <td>dispatching_base_num</td>\n",
       "      <td>0.000000</td>\n",
       "    </tr>\n",
       "    <tr>\n",
       "      <th>pickup_datetime</th>\n",
       "      <td>pickup_datetime</td>\n",
       "      <td>0.000000</td>\n",
       "    </tr>\n",
       "    <tr>\n",
       "      <th>dropOff_datetime</th>\n",
       "      <td>dropOff_datetime</td>\n",
       "      <td>0.000000</td>\n",
       "    </tr>\n",
       "    <tr>\n",
       "      <th>travel_duration</th>\n",
       "      <td>travel_duration</td>\n",
       "      <td>0.000000</td>\n",
       "    </tr>\n",
       "  </tbody>\n",
       "</table>\n",
       "</div>"
      ],
      "text/plain": [
       "                                   column_name  percent_missing\n",
       "SR_Flag                                SR_Flag       100.000000\n",
       "PUlocationID                      PUlocationID        83.527328\n",
       "DOlocationID                      DOlocationID        13.327044\n",
       "Affiliated_base_number  Affiliated_base_number         0.069651\n",
       "dispatching_base_num      dispatching_base_num         0.000000\n",
       "pickup_datetime                pickup_datetime         0.000000\n",
       "dropOff_datetime              dropOff_datetime         0.000000\n",
       "travel_duration                travel_duration         0.000000"
      ]
     },
     "execution_count": 19,
     "metadata": {},
     "output_type": "execute_result"
    }
   ],
   "source": [
    "missing_value_df"
   ]
  },
  {
   "cell_type": "markdown",
   "id": "8bcd910e",
   "metadata": {},
   "source": [
    "## Question 4"
   ]
  },
  {
   "cell_type": "code",
   "execution_count": 20,
   "id": "574ada91",
   "metadata": {
    "ExecuteTime": {
     "end_time": "2022-05-24T11:43:31.691808Z",
     "start_time": "2022-05-24T11:43:31.671618Z"
    }
   },
   "outputs": [
    {
     "data": {
      "text/html": [
       "<div>\n",
       "<style scoped>\n",
       "    .dataframe tbody tr th:only-of-type {\n",
       "        vertical-align: middle;\n",
       "    }\n",
       "\n",
       "    .dataframe tbody tr th {\n",
       "        vertical-align: top;\n",
       "    }\n",
       "\n",
       "    .dataframe thead th {\n",
       "        text-align: right;\n",
       "    }\n",
       "</style>\n",
       "<table border=\"1\" class=\"dataframe\">\n",
       "  <thead>\n",
       "    <tr style=\"text-align: right;\">\n",
       "      <th></th>\n",
       "      <th>PUlocationID</th>\n",
       "      <th>DOlocationID</th>\n",
       "      <th>travel_duration</th>\n",
       "    </tr>\n",
       "  </thead>\n",
       "  <tbody>\n",
       "    <tr>\n",
       "      <th>0</th>\n",
       "      <td>NaN</td>\n",
       "      <td>NaN</td>\n",
       "      <td>17.000000</td>\n",
       "    </tr>\n",
       "    <tr>\n",
       "      <th>1</th>\n",
       "      <td>NaN</td>\n",
       "      <td>NaN</td>\n",
       "      <td>17.000000</td>\n",
       "    </tr>\n",
       "    <tr>\n",
       "      <th>3</th>\n",
       "      <td>NaN</td>\n",
       "      <td>72.0</td>\n",
       "      <td>8.283333</td>\n",
       "    </tr>\n",
       "    <tr>\n",
       "      <th>4</th>\n",
       "      <td>NaN</td>\n",
       "      <td>61.0</td>\n",
       "      <td>15.216667</td>\n",
       "    </tr>\n",
       "    <tr>\n",
       "      <th>5</th>\n",
       "      <td>NaN</td>\n",
       "      <td>71.0</td>\n",
       "      <td>9.050000</td>\n",
       "    </tr>\n",
       "    <tr>\n",
       "      <th>...</th>\n",
       "      <td>...</td>\n",
       "      <td>...</td>\n",
       "      <td>...</td>\n",
       "    </tr>\n",
       "    <tr>\n",
       "      <th>1154107</th>\n",
       "      <td>7.0</td>\n",
       "      <td>7.0</td>\n",
       "      <td>8.750000</td>\n",
       "    </tr>\n",
       "    <tr>\n",
       "      <th>1154108</th>\n",
       "      <td>44.0</td>\n",
       "      <td>91.0</td>\n",
       "      <td>57.600000</td>\n",
       "    </tr>\n",
       "    <tr>\n",
       "      <th>1154109</th>\n",
       "      <td>171.0</td>\n",
       "      <td>171.0</td>\n",
       "      <td>16.200000</td>\n",
       "    </tr>\n",
       "    <tr>\n",
       "      <th>1154110</th>\n",
       "      <td>15.0</td>\n",
       "      <td>15.0</td>\n",
       "      <td>19.433333</td>\n",
       "    </tr>\n",
       "    <tr>\n",
       "      <th>1154111</th>\n",
       "      <td>NaN</td>\n",
       "      <td>NaN</td>\n",
       "      <td>36.000000</td>\n",
       "    </tr>\n",
       "  </tbody>\n",
       "</table>\n",
       "<p>1109826 rows × 3 columns</p>\n",
       "</div>"
      ],
      "text/plain": [
       "         PUlocationID  DOlocationID  travel_duration\n",
       "0                 NaN           NaN        17.000000\n",
       "1                 NaN           NaN        17.000000\n",
       "3                 NaN          72.0         8.283333\n",
       "4                 NaN          61.0        15.216667\n",
       "5                 NaN          71.0         9.050000\n",
       "...               ...           ...              ...\n",
       "1154107           7.0           7.0         8.750000\n",
       "1154108          44.0          91.0        57.600000\n",
       "1154109         171.0         171.0        16.200000\n",
       "1154110          15.0          15.0        19.433333\n",
       "1154111           NaN           NaN        36.000000\n",
       "\n",
       "[1109826 rows x 3 columns]"
      ]
     },
     "execution_count": 20,
     "metadata": {},
     "output_type": "execute_result"
    }
   ],
   "source": [
    "df_tmp = df[[\"PUlocationID\", \"DOlocationID\", \"travel_duration\"]]\n",
    "df_tmp"
   ]
  },
  {
   "cell_type": "code",
   "execution_count": 21,
   "id": "d5c75b6b",
   "metadata": {
    "ExecuteTime": {
     "end_time": "2022-05-24T11:43:41.052175Z",
     "start_time": "2022-05-24T11:43:41.026281Z"
    }
   },
   "outputs": [
    {
     "data": {
      "text/html": [
       "<div>\n",
       "<style scoped>\n",
       "    .dataframe tbody tr th:only-of-type {\n",
       "        vertical-align: middle;\n",
       "    }\n",
       "\n",
       "    .dataframe tbody tr th {\n",
       "        vertical-align: top;\n",
       "    }\n",
       "\n",
       "    .dataframe thead th {\n",
       "        text-align: right;\n",
       "    }\n",
       "</style>\n",
       "<table border=\"1\" class=\"dataframe\">\n",
       "  <thead>\n",
       "    <tr style=\"text-align: right;\">\n",
       "      <th></th>\n",
       "      <th>PUlocationID</th>\n",
       "      <th>DOlocationID</th>\n",
       "      <th>travel_duration</th>\n",
       "    </tr>\n",
       "  </thead>\n",
       "  <tbody>\n",
       "    <tr>\n",
       "      <th>0</th>\n",
       "      <td>-1.0</td>\n",
       "      <td>-1.0</td>\n",
       "      <td>17.000000</td>\n",
       "    </tr>\n",
       "    <tr>\n",
       "      <th>1</th>\n",
       "      <td>-1.0</td>\n",
       "      <td>-1.0</td>\n",
       "      <td>17.000000</td>\n",
       "    </tr>\n",
       "    <tr>\n",
       "      <th>3</th>\n",
       "      <td>-1.0</td>\n",
       "      <td>72.0</td>\n",
       "      <td>8.283333</td>\n",
       "    </tr>\n",
       "    <tr>\n",
       "      <th>4</th>\n",
       "      <td>-1.0</td>\n",
       "      <td>61.0</td>\n",
       "      <td>15.216667</td>\n",
       "    </tr>\n",
       "    <tr>\n",
       "      <th>5</th>\n",
       "      <td>-1.0</td>\n",
       "      <td>71.0</td>\n",
       "      <td>9.050000</td>\n",
       "    </tr>\n",
       "    <tr>\n",
       "      <th>...</th>\n",
       "      <td>...</td>\n",
       "      <td>...</td>\n",
       "      <td>...</td>\n",
       "    </tr>\n",
       "    <tr>\n",
       "      <th>1154107</th>\n",
       "      <td>7.0</td>\n",
       "      <td>7.0</td>\n",
       "      <td>8.750000</td>\n",
       "    </tr>\n",
       "    <tr>\n",
       "      <th>1154108</th>\n",
       "      <td>44.0</td>\n",
       "      <td>91.0</td>\n",
       "      <td>57.600000</td>\n",
       "    </tr>\n",
       "    <tr>\n",
       "      <th>1154109</th>\n",
       "      <td>171.0</td>\n",
       "      <td>171.0</td>\n",
       "      <td>16.200000</td>\n",
       "    </tr>\n",
       "    <tr>\n",
       "      <th>1154110</th>\n",
       "      <td>15.0</td>\n",
       "      <td>15.0</td>\n",
       "      <td>19.433333</td>\n",
       "    </tr>\n",
       "    <tr>\n",
       "      <th>1154111</th>\n",
       "      <td>-1.0</td>\n",
       "      <td>-1.0</td>\n",
       "      <td>36.000000</td>\n",
       "    </tr>\n",
       "  </tbody>\n",
       "</table>\n",
       "<p>1109826 rows × 3 columns</p>\n",
       "</div>"
      ],
      "text/plain": [
       "         PUlocationID  DOlocationID  travel_duration\n",
       "0                -1.0          -1.0        17.000000\n",
       "1                -1.0          -1.0        17.000000\n",
       "3                -1.0          72.0         8.283333\n",
       "4                -1.0          61.0        15.216667\n",
       "5                -1.0          71.0         9.050000\n",
       "...               ...           ...              ...\n",
       "1154107           7.0           7.0         8.750000\n",
       "1154108          44.0          91.0        57.600000\n",
       "1154109         171.0         171.0        16.200000\n",
       "1154110          15.0          15.0        19.433333\n",
       "1154111          -1.0          -1.0        36.000000\n",
       "\n",
       "[1109826 rows x 3 columns]"
      ]
     },
     "execution_count": 21,
     "metadata": {},
     "output_type": "execute_result"
    }
   ],
   "source": [
    "df_fill_na = df_tmp.fillna(-1)\n",
    "df_fill_na"
   ]
  },
  {
   "cell_type": "code",
   "execution_count": 94,
   "id": "c58b6f49",
   "metadata": {
    "ExecuteTime": {
     "end_time": "2022-05-24T12:48:46.943209Z",
     "start_time": "2022-05-24T12:48:46.771295Z"
    }
   },
   "outputs": [
    {
     "name": "stdout",
     "output_type": "stream",
     "text": [
      "<class 'pandas.core.frame.DataFrame'>\n",
      "Int64Index: 1109826 entries, 0 to 1154111\n",
      "Data columns (total 3 columns):\n",
      " #   Column           Non-Null Count    Dtype  \n",
      "---  ------           --------------    -----  \n",
      " 0   PUlocationID     1109826 non-null  object \n",
      " 1   DOlocationID     1109826 non-null  object \n",
      " 2   travel_duration  1109826 non-null  float64\n",
      "dtypes: float64(1), object(2)\n",
      "memory usage: 66.1+ MB\n"
     ]
    }
   ],
   "source": [
    "df_fill_na.info()"
   ]
  },
  {
   "cell_type": "code",
   "execution_count": 95,
   "id": "7e14ad21",
   "metadata": {
    "ExecuteTime": {
     "end_time": "2022-05-24T12:48:48.183004Z",
     "start_time": "2022-05-24T12:48:48.177031Z"
    }
   },
   "outputs": [],
   "source": [
    "from sklearn.feature_extraction import DictVectorizer\n",
    "categorical = ['PUlocationID', 'DOlocationID']\n",
    "numerical = ['travel_duration']\n",
    "# df_fill_na[categorical] = df_fill_na[categorical].astype(str)"
   ]
  },
  {
   "cell_type": "code",
   "execution_count": 96,
   "id": "015542dd",
   "metadata": {
    "ExecuteTime": {
     "end_time": "2022-05-24T12:48:50.933687Z",
     "start_time": "2022-05-24T12:48:48.562348Z"
    }
   },
   "outputs": [],
   "source": [
    "train_dicts = df_fill_na[categorical].to_dict('records')\n",
    "dict_vect = DictVectorizer()\n",
    "X_train = dict_vect.fit_transform(train_dicts)"
   ]
  },
  {
   "cell_type": "code",
   "execution_count": 98,
   "id": "c0febe9c",
   "metadata": {
    "ExecuteTime": {
     "end_time": "2022-05-24T12:48:51.828167Z",
     "start_time": "2022-05-24T12:48:51.816387Z"
    }
   },
   "outputs": [
    {
     "data": {
      "text/plain": [
       "(1109826, 525)"
      ]
     },
     "execution_count": 98,
     "metadata": {},
     "output_type": "execute_result"
    }
   ],
   "source": [
    "X_train.shape"
   ]
  },
  {
   "cell_type": "markdown",
   "id": "4734ccb0",
   "metadata": {},
   "source": [
    "## Question 5 - Using DictVectorizer"
   ]
  },
  {
   "cell_type": "code",
   "execution_count": 105,
   "id": "3022c28a",
   "metadata": {
    "ExecuteTime": {
     "end_time": "2022-05-24T12:49:43.270109Z",
     "start_time": "2022-05-24T12:49:43.258866Z"
    }
   },
   "outputs": [
    {
     "data": {
      "text/plain": [
       "(1109826, 525)"
      ]
     },
     "execution_count": 105,
     "metadata": {},
     "output_type": "execute_result"
    }
   ],
   "source": [
    "X_train.shape"
   ]
  },
  {
   "cell_type": "code",
   "execution_count": 104,
   "id": "497ab288",
   "metadata": {
    "ExecuteTime": {
     "end_time": "2022-05-24T12:49:40.355665Z",
     "start_time": "2022-05-24T12:49:40.345830Z"
    }
   },
   "outputs": [
    {
     "data": {
      "text/plain": [
       "(1109826,)"
      ]
     },
     "execution_count": 104,
     "metadata": {},
     "output_type": "execute_result"
    }
   ],
   "source": [
    "y_train = df_fill_na.travel_duration\n",
    "y_train.shape"
   ]
  },
  {
   "cell_type": "code",
   "execution_count": 107,
   "id": "070d127a",
   "metadata": {
    "ExecuteTime": {
     "end_time": "2022-05-24T12:50:48.817698Z",
     "start_time": "2022-05-24T12:50:45.943894Z"
    }
   },
   "outputs": [],
   "source": [
    "from sklearn.linear_model import LinearRegression\n",
    "ln_reg = LinearRegression()\n",
    "\n",
    "ln_reg.fit(X_train, y_train)\n",
    "y_train_pred = ln_reg.predict(X_train)"
   ]
  },
  {
   "cell_type": "code",
   "execution_count": 108,
   "id": "5ad8f043",
   "metadata": {
    "ExecuteTime": {
     "end_time": "2022-05-24T12:50:58.927138Z",
     "start_time": "2022-05-24T12:50:58.906928Z"
    }
   },
   "outputs": [
    {
     "data": {
      "text/plain": [
       "10.528519421155469"
      ]
     },
     "execution_count": 108,
     "metadata": {},
     "output_type": "execute_result"
    }
   ],
   "source": [
    "# we now have the y_pred_train, and we will use that to compare with the ground truth\n",
    "# which is also the y_value\n",
    "\n",
    "from sklearn.metrics import mean_squared_error\n",
    "from math import sqrt\n",
    "\n",
    "rmse = sqrt(mean_squared_error(y_train, y_train_pred))\n",
    "rmse"
   ]
  },
  {
   "cell_type": "markdown",
   "id": "662f7612",
   "metadata": {},
   "source": [
    "## Question 6"
   ]
  },
  {
   "cell_type": "code",
   "execution_count": 109,
   "id": "5459fd25",
   "metadata": {
    "ExecuteTime": {
     "end_time": "2022-05-24T12:52:05.692015Z",
     "start_time": "2022-05-24T12:52:05.617831Z"
    }
   },
   "outputs": [],
   "source": [
    "# using the model we have above, we will now predict on unseen data from Feb 2021\n",
    "\"\"\"\n",
    "Steps:\n",
    "1. create y_value which is travel_duration\n",
    "2. replace missing pick up and drop off location with -1\n",
    "3. one-hot encode pick up and drop off location\n",
    "4. ignore the rest of the features\n",
    "4a. only keep records between 1-60 mins\n",
    "5. predict\n",
    "6. get model metrics\n",
    "\"\"\"\n",
    "df_feb = pd.read_parquet(\"data/fhv_tripdata_2021-02.parquet\")"
   ]
  },
  {
   "cell_type": "code",
   "execution_count": 110,
   "id": "13eb489b",
   "metadata": {
    "ExecuteTime": {
     "end_time": "2022-05-24T12:52:10.860479Z",
     "start_time": "2022-05-24T12:52:07.353884Z"
    }
   },
   "outputs": [],
   "source": [
    "df_feb[\"travel_duration\"] = df_feb[\"dropOff_datetime\"] - df_feb[\"pickup_datetime\"]\n",
    "df_feb[\"travel_duration\"] = df_feb[\"travel_duration\"].apply(lambda td: td.total_seconds()/60)"
   ]
  },
  {
   "cell_type": "code",
   "execution_count": 111,
   "id": "6233146f",
   "metadata": {
    "ExecuteTime": {
     "end_time": "2022-05-24T12:52:12.687669Z",
     "start_time": "2022-05-24T12:52:12.542902Z"
    }
   },
   "outputs": [],
   "source": [
    "df_feb.drop(df_feb[df_feb.travel_duration > 60].index, inplace=True)\n",
    "df_feb.drop(df_feb[df_feb.travel_duration < 1].index, inplace=True)"
   ]
  },
  {
   "cell_type": "code",
   "execution_count": 112,
   "id": "742d401f",
   "metadata": {
    "ExecuteTime": {
     "end_time": "2022-05-24T12:52:15.051209Z",
     "start_time": "2022-05-24T12:52:14.839470Z"
    }
   },
   "outputs": [
    {
     "data": {
      "text/plain": [
       "0"
      ]
     },
     "execution_count": 112,
     "metadata": {},
     "output_type": "execute_result"
    }
   ],
   "source": [
    "df_feb.isna()[\"travel_duration\"].sum()"
   ]
  },
  {
   "cell_type": "code",
   "execution_count": 113,
   "id": "14292410",
   "metadata": {
    "ExecuteTime": {
     "end_time": "2022-05-24T12:52:19.881364Z",
     "start_time": "2022-05-24T12:52:17.152270Z"
    }
   },
   "outputs": [
    {
     "data": {
      "text/html": [
       "<div>\n",
       "<style scoped>\n",
       "    .dataframe tbody tr th:only-of-type {\n",
       "        vertical-align: middle;\n",
       "    }\n",
       "\n",
       "    .dataframe tbody tr th {\n",
       "        vertical-align: top;\n",
       "    }\n",
       "\n",
       "    .dataframe thead th {\n",
       "        text-align: right;\n",
       "    }\n",
       "</style>\n",
       "<table border=\"1\" class=\"dataframe\">\n",
       "  <thead>\n",
       "    <tr style=\"text-align: right;\">\n",
       "      <th></th>\n",
       "      <th>dispatching_base_num</th>\n",
       "      <th>pickup_datetime</th>\n",
       "      <th>dropOff_datetime</th>\n",
       "      <th>PUlocationID</th>\n",
       "      <th>DOlocationID</th>\n",
       "      <th>SR_Flag</th>\n",
       "      <th>Affiliated_base_number</th>\n",
       "      <th>travel_duration</th>\n",
       "    </tr>\n",
       "  </thead>\n",
       "  <tbody>\n",
       "    <tr>\n",
       "      <th>1</th>\n",
       "      <td>B00021</td>\n",
       "      <td>2021-02-01 00:55:40</td>\n",
       "      <td>2021-02-01 01:06:20</td>\n",
       "      <td>173.0</td>\n",
       "      <td>82.0</td>\n",
       "      <td>-1</td>\n",
       "      <td>B00021</td>\n",
       "      <td>10.666667</td>\n",
       "    </tr>\n",
       "    <tr>\n",
       "      <th>2</th>\n",
       "      <td>B00021</td>\n",
       "      <td>2021-02-01 00:14:03</td>\n",
       "      <td>2021-02-01 00:28:37</td>\n",
       "      <td>173.0</td>\n",
       "      <td>56.0</td>\n",
       "      <td>-1</td>\n",
       "      <td>B00021</td>\n",
       "      <td>14.566667</td>\n",
       "    </tr>\n",
       "    <tr>\n",
       "      <th>3</th>\n",
       "      <td>B00021</td>\n",
       "      <td>2021-02-01 00:27:48</td>\n",
       "      <td>2021-02-01 00:35:45</td>\n",
       "      <td>82.0</td>\n",
       "      <td>129.0</td>\n",
       "      <td>-1</td>\n",
       "      <td>B00021</td>\n",
       "      <td>7.950000</td>\n",
       "    </tr>\n",
       "    <tr>\n",
       "      <th>4</th>\n",
       "      <td>B00037</td>\n",
       "      <td>2021-02-01 00:12:50</td>\n",
       "      <td>2021-02-01 00:26:38</td>\n",
       "      <td>-1.0</td>\n",
       "      <td>225.0</td>\n",
       "      <td>-1</td>\n",
       "      <td>B00037</td>\n",
       "      <td>13.800000</td>\n",
       "    </tr>\n",
       "    <tr>\n",
       "      <th>5</th>\n",
       "      <td>B00037</td>\n",
       "      <td>2021-02-01 00:00:37</td>\n",
       "      <td>2021-02-01 00:09:35</td>\n",
       "      <td>-1.0</td>\n",
       "      <td>61.0</td>\n",
       "      <td>-1</td>\n",
       "      <td>B00037</td>\n",
       "      <td>8.966667</td>\n",
       "    </tr>\n",
       "  </tbody>\n",
       "</table>\n",
       "</div>"
      ],
      "text/plain": [
       "  dispatching_base_num     pickup_datetime    dropOff_datetime  PUlocationID  \\\n",
       "1      B00021          2021-02-01 00:55:40 2021-02-01 01:06:20         173.0   \n",
       "2      B00021          2021-02-01 00:14:03 2021-02-01 00:28:37         173.0   \n",
       "3      B00021          2021-02-01 00:27:48 2021-02-01 00:35:45          82.0   \n",
       "4               B00037 2021-02-01 00:12:50 2021-02-01 00:26:38          -1.0   \n",
       "5               B00037 2021-02-01 00:00:37 2021-02-01 00:09:35          -1.0   \n",
       "\n",
       "   DOlocationID  SR_Flag Affiliated_base_number  travel_duration  \n",
       "1          82.0       -1        B00021                 10.666667  \n",
       "2          56.0       -1        B00021                 14.566667  \n",
       "3         129.0       -1        B00021                  7.950000  \n",
       "4         225.0       -1                 B00037        13.800000  \n",
       "5          61.0       -1                 B00037         8.966667  "
      ]
     },
     "execution_count": 113,
     "metadata": {},
     "output_type": "execute_result"
    }
   ],
   "source": [
    "df_feb_fill_na = df_feb.fillna(-1)\n",
    "df_feb_fill_na.head(5)"
   ]
  },
  {
   "cell_type": "code",
   "execution_count": 114,
   "id": "8df4e234",
   "metadata": {
    "ExecuteTime": {
     "end_time": "2022-05-24T12:52:48.941739Z",
     "start_time": "2022-05-24T12:52:48.900635Z"
    }
   },
   "outputs": [],
   "source": [
    "df_feb_fill_na = df_feb_fill_na[[\"PUlocationID\", \"DOlocationID\", \"travel_duration\"]]"
   ]
  },
  {
   "cell_type": "code",
   "execution_count": 115,
   "id": "d3b6437d",
   "metadata": {
    "ExecuteTime": {
     "end_time": "2022-05-24T12:53:29.017655Z",
     "start_time": "2022-05-24T12:53:27.525554Z"
    }
   },
   "outputs": [],
   "source": [
    "categorical = ['PUlocationID', 'DOlocationID']\n",
    "numerical = ['travel_duration']\n",
    "\n",
    "test_dicts = df_feb_fill_na[categorical].to_dict('records')\n",
    "X_test = dict_vect.transform(test_dicts)"
   ]
  },
  {
   "cell_type": "code",
   "execution_count": 116,
   "id": "d99da244",
   "metadata": {
    "ExecuteTime": {
     "end_time": "2022-05-24T12:53:40.437017Z",
     "start_time": "2022-05-24T12:53:40.431876Z"
    }
   },
   "outputs": [],
   "source": [
    "y_test = df_feb_fill_na.travel_duration"
   ]
  },
  {
   "cell_type": "code",
   "execution_count": 117,
   "id": "7ef110b1",
   "metadata": {
    "ExecuteTime": {
     "end_time": "2022-05-24T12:53:45.635264Z",
     "start_time": "2022-05-24T12:53:45.623212Z"
    }
   },
   "outputs": [
    {
     "data": {
      "text/plain": [
       "(990113, 525)"
      ]
     },
     "execution_count": 117,
     "metadata": {},
     "output_type": "execute_result"
    }
   ],
   "source": [
    "X_test.shape"
   ]
  },
  {
   "cell_type": "code",
   "execution_count": 119,
   "id": "907c2d98",
   "metadata": {
    "ExecuteTime": {
     "end_time": "2022-05-24T12:54:32.848998Z",
     "start_time": "2022-05-24T12:54:32.836319Z"
    }
   },
   "outputs": [
    {
     "data": {
      "text/plain": [
       "(990113,)"
      ]
     },
     "execution_count": 119,
     "metadata": {},
     "output_type": "execute_result"
    }
   ],
   "source": [
    "y_test.shape"
   ]
  },
  {
   "cell_type": "code",
   "execution_count": 120,
   "id": "b42c1dbd",
   "metadata": {
    "ExecuteTime": {
     "end_time": "2022-05-24T12:54:33.319339Z",
     "start_time": "2022-05-24T12:54:33.310328Z"
    }
   },
   "outputs": [],
   "source": [
    "y_test_pred = ln_reg.predict(X_test)"
   ]
  },
  {
   "cell_type": "code",
   "execution_count": 121,
   "id": "abaf43a4",
   "metadata": {
    "ExecuteTime": {
     "end_time": "2022-05-24T12:54:34.054473Z",
     "start_time": "2022-05-24T12:54:34.040894Z"
    }
   },
   "outputs": [
    {
     "data": {
      "text/plain": [
       "12.853254920195765"
      ]
     },
     "execution_count": 121,
     "metadata": {},
     "output_type": "execute_result"
    }
   ],
   "source": [
    "from sklearn.metrics import mean_squared_error\n",
    "from math import sqrt\n",
    "\n",
    "rmse = sqrt(mean_squared_error(y_test, y_test_pred))\n",
    "rmse"
   ]
  },
  {
   "cell_type": "code",
   "execution_count": null,
   "id": "7ef85a71",
   "metadata": {},
   "outputs": [],
   "source": []
  },
  {
   "cell_type": "code",
   "execution_count": null,
   "id": "64672f10",
   "metadata": {},
   "outputs": [],
   "source": []
  },
  {
   "cell_type": "code",
   "execution_count": null,
   "id": "74f4d7b7",
   "metadata": {},
   "outputs": [],
   "source": []
  },
  {
   "cell_type": "code",
   "execution_count": null,
   "id": "02dfc1e6",
   "metadata": {},
   "outputs": [],
   "source": []
  },
  {
   "cell_type": "code",
   "execution_count": null,
   "id": "c04ff73a",
   "metadata": {},
   "outputs": [],
   "source": []
  },
  {
   "cell_type": "code",
   "execution_count": null,
   "id": "6608444e",
   "metadata": {},
   "outputs": [],
   "source": []
  },
  {
   "cell_type": "code",
   "execution_count": null,
   "id": "741fd461",
   "metadata": {},
   "outputs": [],
   "source": []
  },
  {
   "cell_type": "code",
   "execution_count": null,
   "id": "622d2d46",
   "metadata": {},
   "outputs": [],
   "source": []
  }
 ],
 "metadata": {
  "kernelspec": {
   "display_name": "mlops_zoomcamp",
   "language": "python",
   "name": "mlops_zoomcamp"
  },
  "language_info": {
   "codemirror_mode": {
    "name": "ipython",
    "version": 3
   },
   "file_extension": ".py",
   "mimetype": "text/x-python",
   "name": "python",
   "nbconvert_exporter": "python",
   "pygments_lexer": "ipython3",
   "version": "3.8.13"
  },
  "toc": {
   "base_numbering": 1,
   "nav_menu": {},
   "number_sections": true,
   "sideBar": true,
   "skip_h1_title": false,
   "title_cell": "Table of Contents",
   "title_sidebar": "Contents",
   "toc_cell": false,
   "toc_position": {},
   "toc_section_display": true,
   "toc_window_display": false
  }
 },
 "nbformat": 4,
 "nbformat_minor": 5
}
