{
 "cells": [
  {
   "cell_type": "markdown",
   "metadata": {},
   "source": [
    "### Question 5"
   ]
  },
  {
   "cell_type": "code",
   "execution_count": 28,
   "metadata": {},
   "outputs": [
    {
     "name": "stdout",
     "output_type": "stream",
     "text": [
      "36fcc8f4bdbd4518bfd5f2dee4a42c50\n",
      "<Run: data=<RunData: metrics={'rmse': 6.6284257482044735}, params={'max_depth': '19',\n",
      " 'min_samples_leaf': '3',\n",
      " 'min_samples_split': '5',\n",
      " 'n_estimators': '28',\n",
      " 'random_state': '42'}, tags={'mlflow.source.git.commit': 'e96ecdd80139538145a5876c937da7d874225578',\n",
      " 'mlflow.source.name': 'hpo.py',\n",
      " 'mlflow.source.type': 'LOCAL',\n",
      " 'mlflow.user': 'chekwei'}>, info=<RunInfo: artifact_uri='./artifacts/1/36fcc8f4bdbd4518bfd5f2dee4a42c50/artifacts', end_time=1654005823769, experiment_id='1', lifecycle_stage='active', run_id='36fcc8f4bdbd4518bfd5f2dee4a42c50', run_uuid='36fcc8f4bdbd4518bfd5f2dee4a42c50', start_time=1654005818124, status='FINISHED', user_id='chekwei'>>\n"
     ]
    }
   ],
   "source": [
    "import mlflow\n",
    "from mlflow.tracking import MlflowClient\n",
    "\n",
    "MLFLOW_TRACKING_URI = \"sqlite:///mydb.sqlite\"\n",
    "\n",
    "client = MlflowClient(tracking_uri=MLFLOW_TRACKING_URI)\n",
    "\n",
    "best_run = client.search_runs(\n",
    "  experiment_ids = 1, \n",
    "  run_view_type= mlflow.entities.ViewType.ACTIVE_ONLY,\n",
    "  max_results=1,\n",
    "  order_by=[\"metrics.rmse ASC\"]\n",
    ")[0]\n",
    "\n",
    "# print(best_run.data.metrics)\n",
    "# print(best_run.data.params)\n",
    "print(best_run.info.run_id)\n",
    "print(best_run)"
   ]
  },
  {
   "cell_type": "markdown",
   "metadata": {},
   "source": [
    "### Question 6"
   ]
  },
  {
   "cell_type": "markdown",
   "metadata": {},
   "source": [
    "please refer to `register_mode.py` for full codes."
   ]
  },
  {
   "cell_type": "code",
   "execution_count": 34,
   "metadata": {},
   "outputs": [
    {
     "name": "stdout",
     "output_type": "stream",
     "text": [
      "6.548852722401935\n",
      "{'bootstrap': 'True', 'ccp_alpha': '0.0', 'criterion': 'squared_error', 'max_depth': '20', 'max_features': '1.0', 'max_leaf_nodes': 'None', 'max_samples': 'None', 'min_impurity_decrease': '0.0', 'min_samples_leaf': '2', 'min_samples_split': '2', 'min_weight_fraction_leaf': '0.0', 'n_estimators': '25', 'n_jobs': 'None', 'oob_score': 'False', 'random_state': '42', 'verbose': '0', 'warm_start': 'False'}\n",
      "8468dced35044947b71b30f3fb7d1a61\n"
     ]
    }
   ],
   "source": [
    "import mlflow\n",
    "from mlflow.tracking import MlflowClient\n",
    "\n",
    "MLFLOW_TRACKING_URI = \"sqlite:///mydb.sqlite\"\n",
    "\n",
    "client = MlflowClient(tracking_uri=MLFLOW_TRACKING_URI)\n",
    "\n",
    "best_run = client.search_runs(\n",
    "  experiment_ids = 2, \n",
    "  run_view_type= mlflow.entities.ViewType.ACTIVE_ONLY,\n",
    "  max_results=1,\n",
    "  order_by=[\"metrics.rmse ASC\"]\n",
    ")[0]\n",
    "\n",
    "print(best_run.data.metrics[\"test_rmse\"])\n",
    "print(best_run.data.params)\n",
    "print(best_run.info.run_id)"
   ]
  },
  {
   "cell_type": "markdown",
   "metadata": {},
   "source": []
  }
 ],
 "metadata": {
  "interpreter": {
   "hash": "f31051c9cc6414921018c2a587ee250bc1ec9764ccd83924c53eae69df53d038"
  },
  "kernelspec": {
   "display_name": "Python 3.8.13 ('mlops_zoomcamp')",
   "language": "python",
   "name": "python3"
  },
  "language_info": {
   "codemirror_mode": {
    "name": "ipython",
    "version": 3
   },
   "file_extension": ".py",
   "mimetype": "text/x-python",
   "name": "python",
   "nbconvert_exporter": "python",
   "pygments_lexer": "ipython3",
   "version": "3.8.13"
  },
  "orig_nbformat": 4
 },
 "nbformat": 4,
 "nbformat_minor": 2
}
